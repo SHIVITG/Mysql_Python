{
 "cells": [
  {
   "cell_type": "code",
   "execution_count": null,
   "metadata": {},
   "outputs": [],
   "source": [
    "from dao.feedback_table import FeedbackTable\n",
    "import settings\n",
    "import datetime\n",
    "\n",
    "class ConversationService():\n",
    "    def __init__(self):\n",
    "        self.data_file = settings.DATABASES['filepath']\n",
    "        self.conversation = ConversationTable(self.data_file)\n",
    "\n",
    "    def add_conversation(self, thread_id, authority_email, attendees, subject, from_email, person):\n",
    "        self.conversation.insert(thread_id, \n",
    "            authority_email, attendees, \n",
    "            '', \n",
    "            subject,\n",
    "            datetime.datetime.now().strftime('%Y-%m-%d %H:%M:%S'),\n",
    "            from_email,person, '')\n",
    "    \n",
    "    def get_conversation(self, thread_id):\n",
    "        return self.conversation.get_conversation(thread_id)\n",
    "    \n",
    "    def get_manager_assistant_conversation(self, assistant_type, authority_email):\n",
    "        return self.conversation.get_manager_assistant_conversation(assistant_type, authority_email)\n",
    "\n",
    "    def delete_conversation(self, thread_id):\n",
    "        self.conversation.delete(thread_id=thread_id)\n",
    "    \n",
    "    def delete_manager_conversation(self, authority_email, from_email):\n",
    "        self.conversation.delete(authority_email=authority_email, from_email=from_email)\n",
    "\n",
    "    def update_conversation(self, conversation, sent_message):\n",
    "        conversation_dict = {\n",
    "            'authority_email': conversation[1],\n",
    "            'attendees': conversation[2],\n",
    "            'calendar_id': conversation[3],\n",
    "            'subject' : conversation[4],\n",
    "            'last_update': datetime.datetime.now().strftime('%Y-%m-%d %H:%M:%S'),\n",
    "            'from_email':conversation[6],\n",
    "            'person':conversation[7],\n",
    "            'sent_email_msg':sent_message\n",
    "        }\n",
    "\n",
    "        thread_id = conversation[0]\n",
    "        self.conversation.update(conversation_dict, thread_id=thread_id)\n"
   ]
  }
 ],
 "metadata": {
  "kernelspec": {
   "display_name": "Python 3",
   "language": "python",
   "name": "python3"
  },
  "language_info": {
   "codemirror_mode": {
    "name": "ipython",
    "version": 3
   },
   "file_extension": ".py",
   "mimetype": "text/x-python",
   "name": "python",
   "nbconvert_exporter": "python",
   "pygments_lexer": "ipython3",
   "version": "3.6.9"
  }
 },
 "nbformat": 4,
 "nbformat_minor": 2
}
