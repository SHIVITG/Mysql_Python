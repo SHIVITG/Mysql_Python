{
 "cells": [
  {
   "cell_type": "code",
   "execution_count": null,
   "metadata": {},
   "outputs": [],
   "source": [
    "from data_definition.db import Table\n",
    "\n",
    "class FeedbackTable(Table):\n",
    "\n",
    "    def __init__(self, data_file):\n",
    "        super(ConversationTable, self).__init__(data_file, 'feedback_customer_reviews',\n",
    "                                   ['customer_id VARCHAR(255) PRIMARY KEY',\n",
    "                                    'customer_name VARCHAR(255)',\n",
    "                                    'customer_email VARCHAR(255)',\n",
    "                                    'customer_address VARCHAR(255)',\n",
    "                                    'customer_number INT(10)',\n",
    "                                    'feedback TEXT(1200) NOT NULL', \n",
    "                                    'time_of_feedback VARCHAR(255) NOT NULL',\n",
    "                                    'loaction VARCHAR(255)', \n",
    "                                    'stopwords INT(9)',\n",
    "                                    'punctuations INT(9)',\n",
    "                                    'tokens INT(9)',\n",
    "                                    'html_tag INT(9)',\n",
    "                                    'hash_tags INT(9)',\n",
    "                                    'special_characters INT(9)',\n",
    "                                    'digits INT(9)',\n",
    "                                    'extra_space INT(9)'])\n",
    "        \n",
    "    def select(self, *args, **kwargs):\n",
    "        cursor = super(ConversationTable, self).select(*args, **kwargs)\n",
    "        results = cursor.fetchall()\n",
    "        cursor.close()\n",
    "        return results\n",
    "\n",
    "    def insert(self, *args):\n",
    "        self.free(super(ConversationTable, self).insert(*args))\n",
    "\n",
    "    def update(self, set_args, **kwargs):\n",
    "        self.free(super(ConversationTable, self).update(set_args, **kwargs))\n",
    "\n",
    "    def delete(self, **kwargs):\n",
    "        self.free(super(ConversationTable, self).delete(**kwargs))\n",
    "\n",
    "    def delete_all(self):\n",
    "        self.free(super(ConversationTable, self).delete_all())\n",
    "\n",
    "    def drop(self):\n",
    "        self.free(super(ConversationTable, self).drop())\n",
    "\n",
    "    def get_conversation(self, thread_id):\n",
    "        results = self.select('*', thread_id=thread_id)\n",
    "        if len(results) > 0:\n",
    "            return results[0]\n",
    "\n",
    "        return None\n",
    "        \n",
    "    def get_manager_assistant_conversation(self, assistant_type, authority_email):\n",
    "        results = self.select('*', person=assistant_type, authority_email=authority_email)\n",
    "        if len(results) > 0:\n",
    "            return results\n",
    "        return None\n"
   ]
  }
 ],
 "metadata": {
  "kernelspec": {
   "display_name": "Python 3",
   "language": "python",
   "name": "python3"
  },
  "language_info": {
   "codemirror_mode": {
    "name": "ipython",
    "version": 3
   },
   "file_extension": ".py",
   "mimetype": "text/x-python",
   "name": "python",
   "nbconvert_exporter": "python",
   "pygments_lexer": "ipython3",
   "version": "3.6.9"
  }
 },
 "nbformat": 4,
 "nbformat_minor": 2
}
