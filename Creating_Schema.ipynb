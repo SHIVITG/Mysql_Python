{
 "cells": [
  {
   "cell_type": "code",
   "execution_count": 1,
   "metadata": {},
   "outputs": [
    {
     "name": "stdout",
     "output_type": "stream",
     "text": [
      "<mysql.connector.connection.MySQLConnection object at 0x7f5cf02c3438>\n"
     ]
    }
   ],
   "source": [
    "import mysql.connector as mysql\n",
    "import os"
   ]
  },
  {
   "cell_type": "code",
   "execution_count": 3,
   "metadata": {},
   "outputs": [],
   "source": [
    "db = mysql.connect(\n",
    "    host = \"localhost\",\n",
    "    user = \"root\",\n",
    "    passwd = \"root\",\n",
    "    database = \"Basic_Info\"\n",
    ")\n",
    "cursor = db.cursor()"
   ]
  },
  {
   "cell_type": "code",
   "execution_count": 18,
   "metadata": {},
   "outputs": [],
   "source": [
    "cursor.execute(\"CREATE TABLE test(customer_id VARCHAR(255) PRIMARY KEY,customer_name VARCHAR(255),customer_email VARCHAR(255), customer_address VARCHAR(255), customer_number INT(10), feedback TEXT(1200) NOT NULL, time_of_feedback VARCHAR(255) NOT NULL, loaction VARCHAR(255), stopwords INT(9), punctuations INT(9), tokens INT(9),html_tag INT(9),hash_tags INT(9),special_characters INT(9),digits INT(9),extra_space INT(9))\")"
   ]
  },
  {
   "cell_type": "code",
   "execution_count": 4,
   "metadata": {},
   "outputs": [
    {
     "name": "stdout",
     "output_type": "stream",
     "text": [
      "('information',)\n",
      "('test',)\n"
     ]
    }
   ],
   "source": [
    "cursor.execute(\"SHOW TABLES\")\n",
    "tables = cursor.fetchall() ## it returns list of tables present in the database\n",
    "## showing all the tables one by one\n",
    "for table in tables:\n",
    "    print(table)"
   ]
  },
  {
   "cell_type": "code",
   "execution_count": 5,
   "metadata": {},
   "outputs": [
    {
     "name": "stdout",
     "output_type": "stream",
     "text": [
      "[('customer_id', 'varchar(255)', 'NO', 'PRI', None, ''), ('customer_name', 'varchar(255)', 'YES', '', None, ''), ('customer_email', 'varchar(255)', 'YES', '', None, ''), ('customer_address', 'varchar(255)', 'YES', '', None, ''), ('customer_number', 'int(10)', 'YES', '', None, ''), ('feedback', 'text', 'NO', '', None, ''), ('time_of_feedback', 'varchar(255)', 'NO', '', None, ''), ('loaction', 'varchar(255)', 'YES', '', None, ''), ('stopwords', 'int(9)', 'YES', '', None, ''), ('punctuations', 'int(9)', 'YES', '', None, ''), ('tokens', 'int(9)', 'YES', '', None, ''), ('html_tag', 'int(9)', 'YES', '', None, ''), ('hash_tags', 'int(9)', 'YES', '', None, ''), ('special_characters', 'int(9)', 'YES', '', None, ''), ('digits', 'int(9)', 'YES', '', None, ''), ('emojis', 'int(9)', 'YES', '', None, ''), ('extra_space', 'int(9)', 'YES', '', None, '')]\n"
     ]
    }
   ],
   "source": [
    "cursor.execute(\"DESC test\")\n",
    "\n",
    "## it will print all the columns as 'tuples' in a list\n",
    "print(cursor.fetchall())"
   ]
  },
  {
   "cell_type": "code",
   "execution_count": 9,
   "metadata": {},
   "outputs": [],
   "source": [
    "cursor.execute(\"INSERT into test VALUES ('ci_101','test','st15840@gmail.com','gurugram,haryana','1201235690','Coronaviruses : are a group of54 viruses   that cause @ diseases in mammals and   birds.','2pm','gurugram',0 ,0 ,0 ,0 ,0 ,0 ,0 ,0 )\")"
   ]
  },
  {
   "cell_type": "code",
   "execution_count": 44,
   "metadata": {},
   "outputs": [
    {
     "name": "stdout",
     "output_type": "stream",
     "text": [
      "('ci_101', 'test', 'st15840@gmail.com', 'gurugram,haryana', 1201235690, 'Coronaviruses are a group of viruses that cause diseases in mammals and birds.', '2pm', 'gurugram', 0, 0, 0, 0, 0, 0, 0, 0, 0)\n"
     ]
    }
   ],
   "source": [
    "cursor.execute(\"select* from test\")\n",
    "data = cursor.fetchone()\n",
    "print(data)"
   ]
  },
  {
   "cell_type": "code",
   "execution_count": 45,
   "metadata": {},
   "outputs": [
    {
     "name": "stdout",
     "output_type": "stream",
     "text": [
      "('Coronaviruses are a group of viruses that cause diseases in mammals and birds.',)\n",
      "<class 'tuple'>\n"
     ]
    }
   ],
   "source": [
    "cursor.execute(\"SELECT feedback FROM test\")\n",
    "result_set = cursor.fetchall()\n",
    "text = []\n",
    "for row in result_set:\n",
    "    print(row)\n",
    "    print(type(row))\n",
    "    text.append(list(row))"
   ]
  },
  {
   "cell_type": "code",
   "execution_count": 46,
   "metadata": {},
   "outputs": [],
   "source": [
    "new = \"\"\n",
    "for i in text:\n",
    "    for j in i:\n",
    "        new = new + j"
   ]
  },
  {
   "cell_type": "code",
   "execution_count": 47,
   "metadata": {},
   "outputs": [
    {
     "data": {
      "text/plain": [
       "'Coronaviruses are a group of viruses that cause diseases in mammals and birds.'"
      ]
     },
     "execution_count": 47,
     "metadata": {},
     "output_type": "execute_result"
    }
   ],
   "source": [
    "new"
   ]
  },
  {
   "cell_type": "code",
   "execution_count": 115,
   "metadata": {},
   "outputs": [],
   "source": [
    "import numpy as np\n",
    "import re\n",
    "from nltk import word_tokenize\n",
    "from collections import Counter\n",
    "from nltk.corpus import stopwords\n",
    "import string\n",
    "import emoji\n",
    "from math import pi\n",
    "from itertools import islice\n",
    "from sklearn.feature_extraction.text import CountVectorizer"
   ]
  },
  {
   "cell_type": "code",
   "execution_count": 116,
   "metadata": {},
   "outputs": [],
   "source": [
    "HtmlTag = 'html_tag'\n",
    "HtmltagPattern = '<.*?>'\n",
    "HashtagPattern = '#(\\w+)'\n",
    "ExtraSpacesPattern = '  +'\n",
    "EmojiPattern = '(:[^:]*:)'\n",
    "ListPunctuation = ['.',',','?','!',';',\"'\",'\"',':','[',']','(',')','-','—','..','``',\"''\",'--','...','…','....']\n",
    "WordPattern = '^[a-zA-Z0-9_]+$'\n",
    "#---------------------------------------------------------\n",
    "# 1. Calculate count of Tokens\n",
    "#--------------------------------------------------------\n",
    "def tokenize(text):\n",
    "    text = text.lower()\n",
    "    text = re.sub(\"'s\",\"\",text)\n",
    "    text = re.sub(\"'re\",\"\",text)\n",
    "    text = re.sub(\"n't\",\"\",text)\n",
    "    text = re.sub(\"'ll\",\"\",text)\n",
    "    text = re.sub(\"'m\",\"\",text)\n",
    "    text = re.sub(\"'ve\",\"\",text)\n",
    "    text = re.sub(\"'d\",\"\",text)\n",
    "    text = re.sub(\"(//[a-zA-Z_0-9]\\.co/[a-zA-Z_0-9]*)\",\"\",text)\n",
    "    tokenizer = word_tokenize(text)\n",
    "    return tokenizer\n",
    "\n",
    "def count_tokens(text):\n",
    "    tokens = tokenize(text)\n",
    "    dictTokens = dict(Counter(tokens))\n",
    "    return len(dictTokens)\n",
    "\n",
    "#---------------------------------------------------------\n",
    "# 2. Calculate count of Punctuations\n",
    "#---------------------------------------------------------\n",
    "\n",
    "def count_punctuations(text):\n",
    "    punc = [i for i in text if i in ListPunctuation]\n",
    "    dictPunc = dict(Counter(punc))\n",
    "    return len(dictPunc)\n",
    "\n",
    "#---------------------------------------------------------\n",
    "# 3. Calculate count of Stopwords\n",
    "#---------------------------------------------------------\n",
    "def count_stopwords(text):\n",
    "    tokens = tokenize(text)\n",
    "    stop_words = set(stopwords.words(\"english\"))\n",
    "    dictStopwords=[s for s in tokens if s in stop_words]\n",
    "    dictStopwords = dict(Counter(dictStopwords))\n",
    "    return len(dictStopwords)\n",
    "\n",
    "#---------------------------------------------------------\n",
    "# 4. Calculate count of Hashtags\n",
    "#---------------------------------------------------------\n",
    "\n",
    "def find_replace_html_tags(text):\n",
    "    return re.sub(HtmltagPattern,' html_tag ', text)\n",
    "\n",
    "def find_hastags(text):\n",
    "    return re.findall(HashtagPattern, text)\n",
    "\n",
    "def count_hashtags(text):\n",
    "    text = find_replace_html_tags(text)\n",
    "    listHashtags = []\n",
    "    listHash = find_hastags(text)\n",
    "    if len(listHash) > 0:\n",
    "        listHashtags.append(listHash)\n",
    "    return len(listHashtags)\n",
    "\n",
    "#---------------------------------------------------------\n",
    "# 5. Calculate count of Numeric Values\n",
    "#---------------------------------------------------------\n",
    "def count_digits(text):\n",
    "    tokens = tokenize(text)\n",
    "    listDigits = sum(i.isdigit() for i in tokens)\n",
    "    return listDigits\n",
    "\n",
    "#---------------------------------------------------------\n",
    "# 6. Calculate count of Html Tags\n",
    "#---------------------------------------------------------\n",
    "def count_html_tag(text):\n",
    "    tokens = tokenize(text)\n",
    "    countHtmlTags = 0\n",
    "    for i in tokens:\n",
    "        if i == HtmlTag:\n",
    "            countHtmlTags = countHtmlTags+1\n",
    "    return countHtmlTags\n",
    "\n",
    "# #---------------------------------------------------------\n",
    "# # 7. Calculate count of Special Characters\n",
    "# #---------------------------------------------------------\n",
    "def count_special_characters(text):\n",
    "    tokens = tokenize(text)\n",
    "    listSpecialCharacter = []\n",
    "    for i in tokens:\n",
    "        i = re.sub(\"([a-zA-Z_0-9]\\-*)\",\"\",i)\n",
    "        i = re.sub(\"([a-zA-Z_0-9]\\.*)\",\"\",i)\n",
    "        i = re.sub('(\\:[a-zA-Z_]*)','.',i)\n",
    "        if i.isalpha()!=True:\n",
    "            if i.isdigit()!=True:\n",
    "                if i not in ListPunctuation:\n",
    "                    if i != 'html_tag':\n",
    "                        listSpecialCharacter.append(i)\n",
    "    dictSpecialCharacter = dict(Counter(listSpecialCharacter))\n",
    "    del dictSpecialCharacter['']\n",
    "    return len(dictSpecialCharacter)\n",
    "\n",
    "#---------------------------------------------------------\n",
    "# 8. Calculate count of Extra Spaces\n",
    "#---------------------------------------------------------\n",
    "\n",
    "def count_extra_spaces(text):\n",
    "    listExtraSpaces = []\n",
    "    i = re.findall(ExtraSpacesPattern,text)\n",
    "    if len(i)>0:\n",
    "        listExtraSpaces.append(i)\n",
    "    return len(listExtraSpaces)\n"
   ]
  },
  {
   "cell_type": "code",
   "execution_count": 118,
   "metadata": {},
   "outputs": [],
   "source": [
    "tokens = count_tokens(new)\n",
    "punc = count_punctuations(new)\n",
    "stopwords = count_stopwords(new)\n",
    "hashtag = count_hashtags(new)\n",
    "digit = count_digits(new)\n",
    "html = count_html_tag(new)\n",
    "special_char = count_special_characters(new)\n",
    "extraspaces = count_extra_spaces(new)"
   ]
  },
  {
   "cell_type": "code",
   "execution_count": 119,
   "metadata": {},
   "outputs": [],
   "source": []
  },
  {
   "cell_type": "code",
   "execution_count": 120,
   "metadata": {},
   "outputs": [],
   "source": []
  },
  {
   "cell_type": "code",
   "execution_count": 121,
   "metadata": {},
   "outputs": [],
   "source": []
  },
  {
   "cell_type": "code",
   "execution_count": 122,
   "metadata": {},
   "outputs": [],
   "source": []
  },
  {
   "cell_type": "code",
   "execution_count": 123,
   "metadata": {},
   "outputs": [],
   "source": []
  },
  {
   "cell_type": "code",
   "execution_count": null,
   "metadata": {},
   "outputs": [],
   "source": [
    "# Export database file / store the file\n",
    "os.system('mysqldump -u root -p%s Basic_Info > Basic_Info.sql' % 'root')"
   ]
  },
  {
   "cell_type": "code",
   "execution_count": null,
   "metadata": {},
   "outputs": [],
   "source": []
  }
 ],
 "metadata": {
  "kernelspec": {
   "display_name": "Python 3",
   "language": "python",
   "name": "python3"
  },
  "language_info": {
   "codemirror_mode": {
    "name": "ipython",
    "version": 3
   },
   "file_extension": ".py",
   "mimetype": "text/x-python",
   "name": "python",
   "nbconvert_exporter": "python",
   "pygments_lexer": "ipython3",
   "version": "3.6.9"
  }
 },
 "nbformat": 4,
 "nbformat_minor": 2
}
